{
 "cells": [
  {
   "cell_type": "code",
   "execution_count": 37,
   "metadata": {},
   "outputs": [],
   "source": [
    "import pandas as pd\n",
    "import numpy as np"
   ]
  },
  {
   "attachments": {},
   "cell_type": "markdown",
   "metadata": {},
   "source": [
    "En primer lugar vamos a probar las redes neuronales utilizando unicamente 200 observaciones"
   ]
  },
  {
   "cell_type": "code",
   "execution_count": 38,
   "metadata": {},
   "outputs": [],
   "source": [
    "#Cargamos las probabilidades de pertenecer a cada tipo de movimiento difuso para cada una de las ventanas deslizantes de tamaño 50 para las primeras 200 observaciones\n",
    "pred_w=pd.read_csv('pred_window.csv')"
   ]
  },
  {
   "cell_type": "code",
   "execution_count": 39,
   "metadata": {},
   "outputs": [],
   "source": [
    "#Cargamos los exponentes predichos para las ventanas deslizantes de tamaño 50 para las primeras 200 observaciones\n",
    "exp_50=pd.read_csv('pred50.csv')\n",
    "exp_50.drop('Unnamed: 0', axis=1, inplace=True)\n"
   ]
  },
  {
   "cell_type": "code",
   "execution_count": 40,
   "metadata": {},
   "outputs": [],
   "source": [
    "#cargamos nuestras labels, en este caso los changepoints de las primeras 200 trayectorias\n",
    "labels=pd.read_csv('real_ok.csv',sep=',')\n",
    "labels.drop('Unnamed: 0', axis=1, inplace=True)\n",
    "labels=labels.Changepoint[0:200]"
   ]
  },
  {
   "cell_type": "code",
   "execution_count": 41,
   "metadata": {},
   "outputs": [],
   "source": [
    "#cargamos los puntos de cada una de las 200 primeras trayectorias\n",
    "tra=pd.read_csv('task3.csv')\n",
    "tra.drop(['Unnamed: 0','V1'], axis=1, inplace=True)\n",
    "tra=tra[:200]\n"
   ]
  },
  {
   "attachments": {},
   "cell_type": "markdown",
   "metadata": {},
   "source": [
    "Red neuronal con 200 trayectorias"
   ]
  },
  {
   "cell_type": "code",
   "execution_count": 42,
   "metadata": {},
   "outputs": [],
   "source": [
    "from sklearn.model_selection import KFold\n",
    "from tensorflow.keras.models import Sequential\n",
    "from tensorflow.keras.layers import Dense,Dropout,Conv1D,MaxPooling1D\n",
    "from tensorflow.keras.optimizers import Adam\n",
    "from sklearn import metrics"
   ]
  },
  {
   "attachments": {},
   "cell_type": "markdown",
   "metadata": {},
   "source": [
    "Unicamente entrenada con las trayectorias"
   ]
  },
  {
   "cell_type": "code",
   "execution_count": null,
   "metadata": {},
   "outputs": [],
   "source": [
    "mae=[]\n",
    "kf=KFold(n_splits=10,shuffle=True)\n",
    "for trains,tests in kf.split(tra):\n",
    "        x_train = tra.iloc[trains]\n",
    "        y_train = labels.iloc[trains]\n",
    "        x_test = tra.iloc[tests]\n",
    "        y_test = labels.iloc[tests]\n",
    "        model = Sequential()\n",
    "        model.add(Dense(len(x_train.columns)*2, activation='relu', input_shape=(len(x_train.columns),)))\n",
    "        model.add(Dropout(rate = 0.2))\n",
    "        model.add(Dense(len(x_train.columns)*1.5, activation='relu'))\n",
    "        model.add(Dropout(rate = 0.2))\n",
    "        model.add(Dense(len(x_train.columns)*0.5,activation='relu')) \n",
    "        model.add(Dropout(rate = 0.2))\n",
    "        model.add(Dense(len(x_train.columns)*0.25,activation='relu')) \n",
    "        model.add(Dropout(rate = 0.2))\n",
    "        model.add(Dense(1,activation='relu')) \n",
    "        #opt=Adam(learning_rate=0.1, clipnorm=2)\n",
    "        model.compile(optimizer=\"adam\", loss=\"mean_absolute_error\")\n",
    "\n",
    "        model.fit(x_train, y_train, epochs=80 ,validation_data=(x_test, y_test), batch_size=128, verbose=0)\n",
    "        pred = model.predict(x_test,verbose=0)\n",
    "        score = metrics.mean_absolute_error(pred,y_test)\n",
    "        mae.append(score)"
   ]
  },
  {
   "cell_type": "code",
   "execution_count": 44,
   "metadata": {},
   "outputs": [
    {
     "name": "stdout",
     "output_type": "stream",
     "text": [
      "88.84158307313918\n"
     ]
    }
   ],
   "source": [
    "print(np.mean(mae))"
   ]
  },
  {
   "attachments": {},
   "cell_type": "markdown",
   "metadata": {},
   "source": [
    "Red con exponentes"
   ]
  },
  {
   "cell_type": "code",
   "execution_count": 48,
   "metadata": {},
   "outputs": [],
   "source": [
    "mae=[]\n",
    "kf=KFold(n_splits=10,shuffle=True)\n",
    "for trains,tests in kf.split(exp_50):\n",
    "        x_train = exp_50.iloc[trains]\n",
    "        y_train = labels.iloc[trains]\n",
    "        x_test = exp_50.iloc[tests]\n",
    "        y_test = labels.iloc[tests]\n",
    "        model = Sequential()\n",
    "        model.add(Dense(len(x_train.columns)*2, activation='relu', input_shape=(len(x_train.columns),)))\n",
    "        model.add(Dropout(rate = 0.2))\n",
    "        model.add(Dense(len(x_train.columns)*1.5, activation='relu'))\n",
    "        model.add(Dropout(rate = 0.2))\n",
    "        model.add(Dense(len(x_train.columns)*0.5,activation='relu')) \n",
    "        model.add(Dropout(rate = 0.2))\n",
    "        model.add(Dense(len(x_train.columns)*0.25,activation='relu')) \n",
    "        model.add(Dropout(rate = 0.2))\n",
    "        model.add(Dense(1,activation='relu')) \n",
    "        #opt=Adam(learning_rate=0.1, clipnorm=2)\n",
    "        model.compile(optimizer=\"adam\", loss=\"mean_absolute_error\")\n",
    "\n",
    "        model.fit(x_train, y_train, epochs=80 ,validation_data=(x_test, y_test), batch_size=128, verbose=0)\n",
    "        pred = model.predict(x_test,verbose=0)\n",
    "        score = metrics.mean_absolute_error(pred,y_test)\n",
    "        mae.append(score)"
   ]
  },
  {
   "cell_type": "code",
   "execution_count": 49,
   "metadata": {},
   "outputs": [
    {
     "name": "stdout",
     "output_type": "stream",
     "text": [
      "59.50312656402588\n"
     ]
    }
   ],
   "source": [
    "print(np.mean(mae))"
   ]
  },
  {
   "attachments": {},
   "cell_type": "markdown",
   "metadata": {},
   "source": [
    "Red con exponente y trayectorias"
   ]
  },
  {
   "cell_type": "code",
   "execution_count": 50,
   "metadata": {},
   "outputs": [],
   "source": [
    "tra_exp=pd.concat([tra,exp_50],axis=1)"
   ]
  },
  {
   "cell_type": "code",
   "execution_count": null,
   "metadata": {},
   "outputs": [],
   "source": [
    "mae=[]\n",
    "kf=KFold(n_splits=10,shuffle=True)\n",
    "for trains,tests in kf.split(tra_exp):\n",
    "        x_train = tra_exp.iloc[trains]\n",
    "        y_train = labels.iloc[trains]\n",
    "        x_test = tra_exp.iloc[tests]\n",
    "        y_test = labels.iloc[tests]\n",
    "        model = Sequential()\n",
    "        model.add(Dense(len(x_train.columns)*2, activation='relu', input_shape=(len(x_train.columns),)))\n",
    "        model.add(Dropout(rate = 0.2))\n",
    "        model.add(Dense(len(x_train.columns)*1.5, activation='relu'))\n",
    "        model.add(Dropout(rate = 0.2))\n",
    "        model.add(Dense(len(x_train.columns)*0.5,activation='relu')) \n",
    "        model.add(Dropout(rate = 0.2))\n",
    "        model.add(Dense(len(x_train.columns)*0.25,activation='relu')) \n",
    "        model.add(Dropout(rate = 0.2))\n",
    "        model.add(Dense(1,activation='relu')) \n",
    "        #opt=Adam(learning_rate=0.1, clipnorm=2)\n",
    "        model.compile(optimizer=\"adam\", loss=\"mean_absolute_error\")\n",
    "\n",
    "        model.fit(x_train, y_train, epochs=80 ,validation_data=(x_test, y_test), batch_size=128, verbose=0)\n",
    "        pred = model.predict(x_test,verbose=0)\n",
    "        score = metrics.mean_absolute_error(pred,y_test)\n",
    "        mae.append(score)"
   ]
  },
  {
   "cell_type": "code",
   "execution_count": 52,
   "metadata": {},
   "outputs": [
    {
     "name": "stdout",
     "output_type": "stream",
     "text": [
      "68.47041455984115\n"
     ]
    }
   ],
   "source": [
    "print(np.mean(mae))"
   ]
  },
  {
   "attachments": {},
   "cell_type": "markdown",
   "metadata": {},
   "source": [
    "Red con exponentes y tipos de movimiento"
   ]
  },
  {
   "cell_type": "code",
   "execution_count": 53,
   "metadata": {},
   "outputs": [],
   "source": [
    "w_exp=pd.concat([pred_w,exp_50],axis=1)"
   ]
  },
  {
   "cell_type": "code",
   "execution_count": null,
   "metadata": {},
   "outputs": [],
   "source": [
    "mae=[]\n",
    "kf=KFold(n_splits=10,shuffle=True)\n",
    "for trains,tests in kf.split(w_exp):\n",
    "        x_train = w_exp.iloc[trains]\n",
    "        y_train = labels.iloc[trains]\n",
    "        x_test = w_exp.iloc[tests]\n",
    "        y_test = labels.iloc[tests]\n",
    "        model = Sequential()\n",
    "        model.add(Dense(len(x_train.columns)*2, activation='relu', input_shape=(len(x_train.columns),)))\n",
    "        model.add(Dropout(rate = 0.2))\n",
    "        model.add(Dense(len(x_train.columns)*1.5, activation='relu'))\n",
    "        model.add(Dropout(rate = 0.2))\n",
    "        model.add(Dense(len(x_train.columns)*0.5,activation='relu')) \n",
    "        model.add(Dropout(rate = 0.2))\n",
    "        model.add(Dense(len(x_train.columns)*0.25,activation='relu')) \n",
    "        model.add(Dropout(rate = 0.2))\n",
    "        model.add(Dense(1,activation='relu')) \n",
    "        #opt=Adam(learning_rate=0.1, clipnorm=2)\n",
    "        model.compile(optimizer=\"adam\", loss=\"mean_absolute_error\")\n",
    "\n",
    "        model.fit(x_train, y_train, epochs=80 ,validation_data=(x_test, y_test), batch_size=128, verbose=0)\n",
    "        pred = model.predict(x_test,verbose=0)\n",
    "        score = metrics.mean_absolute_error(pred,y_test)\n",
    "        mae.append(score)"
   ]
  },
  {
   "cell_type": "code",
   "execution_count": 55,
   "metadata": {},
   "outputs": [
    {
     "name": "stdout",
     "output_type": "stream",
     "text": [
      "62.001611652374265\n"
     ]
    }
   ],
   "source": [
    "print(np.mean(mae))"
   ]
  },
  {
   "attachments": {},
   "cell_type": "markdown",
   "metadata": {},
   "source": [
    "Red con exponentes, clasificación y trayectorias."
   ]
  },
  {
   "cell_type": "code",
   "execution_count": 56,
   "metadata": {},
   "outputs": [],
   "source": [
    "total=pd.concat([pred_w,exp_50,tra],axis=1)"
   ]
  },
  {
   "cell_type": "code",
   "execution_count": null,
   "metadata": {},
   "outputs": [],
   "source": [
    "mae=[]\n",
    "kf=KFold(n_splits=10,shuffle=True)\n",
    "for trains,tests in kf.split(total):\n",
    "        x_train = total.iloc[trains]\n",
    "        y_train = labels.iloc[trains]\n",
    "        x_test = total.iloc[tests]\n",
    "        y_test = labels.iloc[tests]\n",
    "        model = Sequential()\n",
    "        model.add(Dense(len(x_train.columns)*2, activation='relu', input_shape=(len(x_train.columns),)))\n",
    "        model.add(Dropout(rate = 0.2))\n",
    "        model.add(Dense(len(x_train.columns)*1.5, activation='relu'))\n",
    "        model.add(Dropout(rate = 0.2))\n",
    "        model.add(Dense(len(x_train.columns)*0.5,activation='relu')) \n",
    "        model.add(Dropout(rate = 0.2))\n",
    "        model.add(Dense(len(x_train.columns)*0.25,activation='relu')) \n",
    "        model.add(Dropout(rate = 0.2))\n",
    "        model.add(Dense(1,activation='relu')) \n",
    "        #opt=Adam(learning_rate=0.1, clipnorm=2)\n",
    "        model.compile(optimizer=\"adam\", loss=\"mean_absolute_error\")\n",
    "\n",
    "        model.fit(x_train, y_train, epochs=80 ,validation_data=(x_test, y_test), batch_size=128, verbose=0)\n",
    "        pred = model.predict(x_test,verbose=0)\n",
    "        score = metrics.mean_absolute_error(pred,y_test)\n",
    "        mae.append(score)"
   ]
  },
  {
   "cell_type": "code",
   "execution_count": 58,
   "metadata": {},
   "outputs": [
    {
     "name": "stdout",
     "output_type": "stream",
     "text": [
      "67.6670679140091\n"
     ]
    }
   ],
   "source": [
    "print(np.mean(mae))"
   ]
  }
 ],
 "metadata": {
  "kernelspec": {
   "display_name": "base",
   "language": "python",
   "name": "python3"
  },
  "language_info": {
   "codemirror_mode": {
    "name": "ipython",
    "version": 3
   },
   "file_extension": ".py",
   "mimetype": "text/x-python",
   "name": "python",
   "nbconvert_exporter": "python",
   "pygments_lexer": "ipython3",
   "version": "3.8.3"
  },
  "orig_nbformat": 4
 },
 "nbformat": 4,
 "nbformat_minor": 2
}
