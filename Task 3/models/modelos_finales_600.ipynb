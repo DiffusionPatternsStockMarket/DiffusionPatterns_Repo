{
 "cells": [
  {
   "cell_type": "code",
   "execution_count": 1,
   "metadata": {},
   "outputs": [
    {
     "name": "stderr",
     "output_type": "stream",
     "text": [
      "c:\\Users\\Apm1a\\anaconda3\\lib\\site-packages\\pandas\\core\\computation\\expressions.py:21: UserWarning: Pandas requires version '2.7.3' or newer of 'numexpr' (version '2.7.1' currently installed).\n",
      "  from pandas.core.computation.check import NUMEXPR_INSTALLED\n"
     ]
    }
   ],
   "source": [
    "import pandas as pd\n",
    "import numpy as np"
   ]
  },
  {
   "attachments": {},
   "cell_type": "markdown",
   "metadata": {},
   "source": [
    "En primer lugar vamos a probar las redes neuronales utilizando unicamente 600 observaciones"
   ]
  },
  {
   "cell_type": "code",
   "execution_count": 2,
   "metadata": {},
   "outputs": [],
   "source": [
    "#Cargamos las probabilidades de pertenecer a cada tipo de movimiento difuso para cada una de las ventanas deslizantes de tamaño 50 para las primeras 600 observaciones\n",
    "pred_w=pd.read_csv('pred_window_final.csv')\n",
    "pred_w=pred_w[0:600]"
   ]
  },
  {
   "cell_type": "code",
   "execution_count": 3,
   "metadata": {},
   "outputs": [],
   "source": [
    "#Cargamos los exponentes predichos para las ventanas deslizantes de tamaño 50 para las primeras 600 observaciones\n",
    "exp_50=pd.read_csv('pred_50_final.csv')\n",
    "exp_50=exp_50[0:600]"
   ]
  },
  {
   "cell_type": "code",
   "execution_count": 4,
   "metadata": {},
   "outputs": [],
   "source": [
    "#cargamos nuestras labels, en este caso los changepoints de las primeras 600 trayectorias\n",
    "labels=pd.read_csv('real_ok.csv',sep=',')\n",
    "labels.drop('Unnamed: 0', axis=1, inplace=True)\n",
    "labels=labels.Changepoint[0:600]"
   ]
  },
  {
   "cell_type": "code",
   "execution_count": 5,
   "metadata": {},
   "outputs": [],
   "source": [
    "#cargamos los puntos de cada una de las 200 primeras trayectorias\n",
    "tra=pd.read_csv('task3.csv')\n",
    "tra.drop(['Unnamed: 0','V1'], axis=1, inplace=True)\n",
    "tra=tra[:600]\n"
   ]
  },
  {
   "attachments": {},
   "cell_type": "markdown",
   "metadata": {},
   "source": [
    "Red neuronal con 600 trayectorias"
   ]
  },
  {
   "cell_type": "code",
   "execution_count": 6,
   "metadata": {},
   "outputs": [],
   "source": [
    "from sklearn.model_selection import KFold\n",
    "from tensorflow.keras.models import Sequential\n",
    "from tensorflow.keras.layers import Dense,Dropout,Conv1D,MaxPooling1D\n",
    "from tensorflow.keras.optimizers import Adam\n",
    "from sklearn import metrics"
   ]
  },
  {
   "attachments": {},
   "cell_type": "markdown",
   "metadata": {},
   "source": [
    "Unicamente entrenada con las trayectorias"
   ]
  },
  {
   "cell_type": "code",
   "execution_count": null,
   "metadata": {},
   "outputs": [],
   "source": [
    "mae=[]\n",
    "kf=KFold(n_splits=10,shuffle=True)\n",
    "for trains,tests in kf.split(tra):\n",
    "        x_train = tra.iloc[trains]\n",
    "        y_train = labels.iloc[trains]\n",
    "        x_test = tra.iloc[tests]\n",
    "        y_test = labels.iloc[tests]\n",
    "        model = Sequential()\n",
    "        model.add(Dense(len(x_train.columns)*2, activation='relu', input_shape=(len(x_train.columns),)))\n",
    "        model.add(Dropout(rate = 0.2))\n",
    "        model.add(Dense(len(x_train.columns)*1.5, activation='relu'))\n",
    "        model.add(Dropout(rate = 0.2))\n",
    "        model.add(Dense(len(x_train.columns)*0.5,activation='relu')) \n",
    "        model.add(Dropout(rate = 0.2))\n",
    "        model.add(Dense(len(x_train.columns)*0.25,activation='relu')) \n",
    "        model.add(Dropout(rate = 0.2))\n",
    "        model.add(Dense(1,activation='relu')) \n",
    "        #opt=Adam(learning_rate=0.1, clipnorm=2)\n",
    "        model.compile(optimizer=\"adam\", loss=\"mean_absolute_error\")\n",
    "\n",
    "        model.fit(x_train, y_train, epochs=80 ,validation_data=(x_test, y_test), batch_size=128, verbose=0)\n",
    "        pred = model.predict(x_test,verbose=0)\n",
    "        score = metrics.mean_absolute_error(pred,y_test)\n",
    "        mae.append(score)"
   ]
  },
  {
   "cell_type": "code",
   "execution_count": 12,
   "metadata": {},
   "outputs": [
    {
     "name": "stdout",
     "output_type": "stream",
     "text": [
      "84.2172109272745\n"
     ]
    }
   ],
   "source": [
    "print(np.mean(mae))"
   ]
  },
  {
   "attachments": {},
   "cell_type": "markdown",
   "metadata": {},
   "source": [
    "Red con exponentes"
   ]
  },
  {
   "cell_type": "code",
   "execution_count": 13,
   "metadata": {},
   "outputs": [],
   "source": [
    "mae=[]\n",
    "kf=KFold(n_splits=10,shuffle=True)\n",
    "for trains,tests in kf.split(exp_50):\n",
    "        x_train = exp_50.iloc[trains]\n",
    "        y_train = labels.iloc[trains]\n",
    "        x_test = exp_50.iloc[tests]\n",
    "        y_test = labels.iloc[tests]\n",
    "        model = Sequential()\n",
    "        model.add(Dense(len(x_train.columns)*2, activation='relu', input_shape=(len(x_train.columns),)))\n",
    "        model.add(Dropout(rate = 0.2))\n",
    "        model.add(Dense(len(x_train.columns)*1.5, activation='relu'))\n",
    "        model.add(Dropout(rate = 0.2))\n",
    "        model.add(Dense(len(x_train.columns)*0.5,activation='relu')) \n",
    "        model.add(Dropout(rate = 0.2))\n",
    "        model.add(Dense(len(x_train.columns)*0.25,activation='relu')) \n",
    "        model.add(Dropout(rate = 0.2))\n",
    "        model.add(Dense(1,activation='relu')) \n",
    "        #opt=Adam(learning_rate=0.1, clipnorm=2)\n",
    "        model.compile(optimizer=\"adam\", loss=\"mean_absolute_error\")\n",
    "\n",
    "        model.fit(x_train, y_train, epochs=80 ,validation_data=(x_test, y_test), batch_size=128, verbose=0)\n",
    "        pred = model.predict(x_test,verbose=0)\n",
    "        score = metrics.mean_absolute_error(pred,y_test)\n",
    "        mae.append(score)"
   ]
  },
  {
   "cell_type": "code",
   "execution_count": 15,
   "metadata": {},
   "outputs": [
    {
     "name": "stdout",
     "output_type": "stream",
     "text": [
      "52.50123135884603\n"
     ]
    }
   ],
   "source": [
    "print(np.mean(mae))"
   ]
  },
  {
   "attachments": {},
   "cell_type": "markdown",
   "metadata": {},
   "source": [
    "Red con exponente y trayectorias"
   ]
  },
  {
   "cell_type": "code",
   "execution_count": 16,
   "metadata": {},
   "outputs": [],
   "source": [
    "tra_exp=pd.concat([tra,exp_50],axis=1)"
   ]
  },
  {
   "cell_type": "code",
   "execution_count": 17,
   "metadata": {},
   "outputs": [],
   "source": [
    "mae=[]\n",
    "kf=KFold(n_splits=10,shuffle=True)\n",
    "for trains,tests in kf.split(tra_exp):\n",
    "        x_train = tra_exp.iloc[trains]\n",
    "        y_train = labels.iloc[trains]\n",
    "        x_test = tra_exp.iloc[tests]\n",
    "        y_test = labels.iloc[tests]\n",
    "        model = Sequential()\n",
    "        model.add(Dense(len(x_train.columns)*2, activation='relu', input_shape=(len(x_train.columns),)))\n",
    "        model.add(Dropout(rate = 0.2))\n",
    "        model.add(Dense(len(x_train.columns)*1.5, activation='relu'))\n",
    "        model.add(Dropout(rate = 0.2))\n",
    "        model.add(Dense(len(x_train.columns)*0.5,activation='relu')) \n",
    "        model.add(Dropout(rate = 0.2))\n",
    "        model.add(Dense(len(x_train.columns)*0.25,activation='relu')) \n",
    "        model.add(Dropout(rate = 0.2))\n",
    "        model.add(Dense(1,activation='relu')) \n",
    "        #opt=Adam(learning_rate=0.1, clipnorm=2)\n",
    "        model.compile(optimizer=\"adam\", loss=\"mean_absolute_error\")\n",
    "\n",
    "        model.fit(x_train, y_train, epochs=80 ,validation_data=(x_test, y_test), batch_size=128, verbose=0)\n",
    "        pred = model.predict(x_test,verbose=0)\n",
    "        score = metrics.mean_absolute_error(pred,y_test)\n",
    "        mae.append(score)"
   ]
  },
  {
   "cell_type": "code",
   "execution_count": 22,
   "metadata": {},
   "outputs": [
    {
     "name": "stdout",
     "output_type": "stream",
     "text": [
      "60.0485592674326\n"
     ]
    }
   ],
   "source": [
    "print(np.mean(mae))"
   ]
  },
  {
   "attachments": {},
   "cell_type": "markdown",
   "metadata": {},
   "source": [
    "Red con exponentes y tipos de movimiento"
   ]
  },
  {
   "cell_type": "code",
   "execution_count": 29,
   "metadata": {},
   "outputs": [],
   "source": [
    "w_exp=pd.concat([pred_w,exp_50],axis=1)"
   ]
  },
  {
   "cell_type": "code",
   "execution_count": null,
   "metadata": {},
   "outputs": [],
   "source": [
    "mae=[]\n",
    "kf=KFold(n_splits=10,shuffle=True)\n",
    "for trains,tests in kf.split(w_exp):\n",
    "        x_train = w_exp.iloc[trains]\n",
    "        y_train = labels.iloc[trains]\n",
    "        x_test = w_exp.iloc[tests]\n",
    "        y_test = labels.iloc[tests]\n",
    "        model = Sequential()\n",
    "        model.add(Dense(len(x_train.columns)*2, activation='relu', input_shape=(len(x_train.columns),)))\n",
    "        model.add(Dropout(rate = 0.2))\n",
    "        model.add(Dense(len(x_train.columns)*1.5, activation='relu'))\n",
    "        model.add(Dropout(rate = 0.2))\n",
    "        model.add(Dense(len(x_train.columns)*0.5,activation='relu')) \n",
    "        model.add(Dropout(rate = 0.2))\n",
    "        model.add(Dense(len(x_train.columns)*0.25,activation='relu')) \n",
    "        model.add(Dropout(rate = 0.2))\n",
    "        model.add(Dense(1,activation='relu')) \n",
    "        #opt=Adam(learning_rate=0.1, clipnorm=2)\n",
    "        model.compile(optimizer=\"adam\", loss=\"mean_absolute_error\")\n",
    "\n",
    "        model.fit(x_train, y_train, epochs=80 ,validation_data=(x_test, y_test), batch_size=128, verbose=0)\n",
    "        pred = model.predict(x_test,verbose=False)\n",
    "        score = metrics.mean_absolute_error(pred,y_test)\n",
    "        mae.append(score)"
   ]
  },
  {
   "cell_type": "code",
   "execution_count": 32,
   "metadata": {},
   "outputs": [
    {
     "name": "stdout",
     "output_type": "stream",
     "text": [
      "55.92885330041249\n"
     ]
    }
   ],
   "source": [
    "print(np.mean(mae))"
   ]
  },
  {
   "attachments": {},
   "cell_type": "markdown",
   "metadata": {},
   "source": [
    "Red con exponentes, clasificación y trayectorias."
   ]
  },
  {
   "cell_type": "code",
   "execution_count": 33,
   "metadata": {},
   "outputs": [],
   "source": [
    "total=pd.concat([pred_w,exp_50,tra],axis=1)"
   ]
  },
  {
   "cell_type": "code",
   "execution_count": null,
   "metadata": {},
   "outputs": [],
   "source": [
    "mae=[]\n",
    "kf=KFold(n_splits=10,shuffle=True)\n",
    "for trains,tests in kf.split(total):\n",
    "        x_train = total.iloc[trains]\n",
    "        y_train = labels.iloc[trains]\n",
    "        x_test = total.iloc[tests]\n",
    "        y_test = labels.iloc[tests]\n",
    "        model = Sequential()\n",
    "        model.add(Dense(len(x_train.columns)*2, activation='relu', input_shape=(len(x_train.columns),)))\n",
    "        model.add(Dropout(rate = 0.2))\n",
    "        model.add(Dense(len(x_train.columns)*1.5, activation='relu'))\n",
    "        model.add(Dropout(rate = 0.2))\n",
    "        model.add(Dense(len(x_train.columns)*0.5,activation='relu')) \n",
    "        model.add(Dropout(rate = 0.2))\n",
    "        model.add(Dense(len(x_train.columns)*0.25,activation='relu')) \n",
    "        model.add(Dropout(rate = 0.2))\n",
    "        model.add(Dense(1,activation='relu')) \n",
    "        #opt=Adam(learning_rate=0.1, clipnorm=2)\n",
    "        model.compile(optimizer=\"adam\", loss=\"mean_absolute_error\")\n",
    "\n",
    "        model.fit(x_train, y_train, epochs=80 ,validation_data=(x_test, y_test), batch_size=128, verbose=0)\n",
    "        pred = model.predict(x_test,verbose=0)\n",
    "        score = metrics.mean_absolute_error(pred,y_test)\n",
    "        mae.append(score)"
   ]
  },
  {
   "cell_type": "code",
   "execution_count": 38,
   "metadata": {},
   "outputs": [
    {
     "name": "stdout",
     "output_type": "stream",
     "text": [
      "56.323482488702844\n"
     ]
    }
   ],
   "source": [
    "print(np.mean(mae))"
   ]
  }
 ],
 "metadata": {
  "kernelspec": {
   "display_name": "base",
   "language": "python",
   "name": "python3"
  },
  "language_info": {
   "codemirror_mode": {
    "name": "ipython",
    "version": 3
   },
   "file_extension": ".py",
   "mimetype": "text/x-python",
   "name": "python",
   "nbconvert_exporter": "python",
   "pygments_lexer": "ipython3",
   "version": "3.8.3"
  },
  "orig_nbformat": 4
 },
 "nbformat": 4,
 "nbformat_minor": 2
}
