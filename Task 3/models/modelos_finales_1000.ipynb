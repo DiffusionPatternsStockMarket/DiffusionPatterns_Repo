{
 "cells": [
  {
   "cell_type": "code",
   "execution_count": 3,
   "metadata": {},
   "outputs": [
    {
     "name": "stderr",
     "output_type": "stream",
     "text": [
      "c:\\Users\\Apm1a\\anaconda3\\lib\\site-packages\\pandas\\core\\computation\\expressions.py:21: UserWarning: Pandas requires version '2.7.3' or newer of 'numexpr' (version '2.7.1' currently installed).\n",
      "  from pandas.core.computation.check import NUMEXPR_INSTALLED\n"
     ]
    }
   ],
   "source": [
    "import pandas as pd\n",
    "import numpy as np"
   ]
  },
  {
   "attachments": {},
   "cell_type": "markdown",
   "metadata": {},
   "source": [
    "En primer lugar vamos a probar las redes neuronales utilizando unicamente 1000 observaciones"
   ]
  },
  {
   "cell_type": "code",
   "execution_count": 4,
   "metadata": {},
   "outputs": [],
   "source": [
    "#Cargamos las probabilidades de pertenecer a cada tipo de movimiento difuso para cada una de las ventanas deslizantes de tamaño 50 para las primeras 600 observaciones\n",
    "pred_w=pd.read_csv('pred_window_final.csv')\n",
    "pred_w=pred_w[0:1000]"
   ]
  },
  {
   "cell_type": "code",
   "execution_count": 5,
   "metadata": {},
   "outputs": [],
   "source": [
    "#Cargamos los exponentes predichos para las ventanas deslizantes de tamaño 50 para las primeras 600 observaciones\n",
    "exp_50=pd.read_csv('pred_50_final.csv')\n",
    "exp_50=exp_50[0:1000]"
   ]
  },
  {
   "cell_type": "code",
   "execution_count": 6,
   "metadata": {},
   "outputs": [],
   "source": [
    "#cargamos nuestras labels, en este caso los changepoints de las primeras 600 trayectorias\n",
    "labels=pd.read_csv('real_ok.csv',sep=',')\n",
    "labels.drop('Unnamed: 0', axis=1, inplace=True)\n",
    "labels=labels.Changepoint[0:1000]"
   ]
  },
  {
   "cell_type": "code",
   "execution_count": 7,
   "metadata": {},
   "outputs": [],
   "source": [
    "#cargamos los puntos de cada una de las 200 primeras trayectorias\n",
    "tra=pd.read_csv('task3.csv')\n",
    "tra.drop(['Unnamed: 0','V1'], axis=1, inplace=True)\n",
    "tra=tra[:1000]\n"
   ]
  },
  {
   "attachments": {},
   "cell_type": "markdown",
   "metadata": {},
   "source": [
    "Red neuronal con 1000 trayectorias"
   ]
  },
  {
   "cell_type": "code",
   "execution_count": 8,
   "metadata": {},
   "outputs": [],
   "source": [
    "from sklearn.model_selection import KFold\n",
    "from tensorflow.keras.models import Sequential\n",
    "from tensorflow.keras.layers import Dense,Dropout,Conv1D,MaxPooling1D\n",
    "from tensorflow.keras.optimizers import Adam\n",
    "from sklearn import metrics"
   ]
  },
  {
   "attachments": {},
   "cell_type": "markdown",
   "metadata": {},
   "source": [
    "Unicamente entrenada con las trayectorias"
   ]
  },
  {
   "cell_type": "code",
   "execution_count": 57,
   "metadata": {},
   "outputs": [],
   "source": [
    "mae=[]\n",
    "kf=KFold(n_splits=10,shuffle=True)\n",
    "for trains,tests in kf.split(tra):\n",
    "        x_train = tra.iloc[trains]\n",
    "        y_train = labels.iloc[trains]\n",
    "        x_test = tra.iloc[tests]\n",
    "        y_test = labels.iloc[tests]\n",
    "        model = Sequential()\n",
    "        model.add(Dense(len(x_train.columns)*2, activation='relu', input_shape=(len(x_train.columns),)))\n",
    "        model.add(Dropout(rate = 0.2))\n",
    "        model.add(Dense(len(x_train.columns)*1.5, activation='relu'))\n",
    "        model.add(Dropout(rate = 0.2))\n",
    "        model.add(Dense(len(x_train.columns)*0.5,activation='relu')) \n",
    "        model.add(Dropout(rate = 0.2))\n",
    "        model.add(Dense(len(x_train.columns)*0.25,activation='relu')) \n",
    "        model.add(Dropout(rate = 0.2))\n",
    "        model.add(Dense(1,activation='relu')) \n",
    "        #opt=Adam(learning_rate=0.1, clipnorm=2)\n",
    "        model.compile(optimizer=\"adam\", loss=\"mean_absolute_error\")\n",
    "\n",
    "        model.fit(x_train, y_train, epochs=80 ,validation_data=(x_test, y_test), batch_size=128, verbose=0)\n",
    "        pred = model.predict(x_test,verbose=0)\n",
    "        score = metrics.mean_absolute_error(pred,y_test)\n",
    "        mae.append(score)"
   ]
  },
  {
   "cell_type": "code",
   "execution_count": 61,
   "metadata": {},
   "outputs": [
    {
     "name": "stdout",
     "output_type": "stream",
     "text": [
      "88.37398398657639\n"
     ]
    }
   ],
   "source": [
    "print(np.mean(mae))"
   ]
  },
  {
   "attachments": {},
   "cell_type": "markdown",
   "metadata": {},
   "source": [
    "Red con exponentes"
   ]
  },
  {
   "cell_type": "code",
   "execution_count": 9,
   "metadata": {},
   "outputs": [],
   "source": [
    "mae=[]\n",
    "kf=KFold(n_splits=10,shuffle=True)\n",
    "for trains,tests in kf.split(exp_50):\n",
    "        x_train = exp_50.iloc[trains]\n",
    "        y_train = labels.iloc[trains]\n",
    "        x_test = exp_50.iloc[tests]\n",
    "        y_test = labels.iloc[tests]\n",
    "        model = Sequential()\n",
    "        model.add(Dense(len(x_train.columns)*2, activation='relu', input_shape=(len(x_train.columns),)))\n",
    "        model.add(Dropout(rate = 0.2))\n",
    "        model.add(Dense(len(x_train.columns)*1.5, activation='relu'))\n",
    "        model.add(Dropout(rate = 0.2))\n",
    "        model.add(Dense(len(x_train.columns)*0.5,activation='relu')) \n",
    "        model.add(Dropout(rate = 0.2))\n",
    "        model.add(Dense(len(x_train.columns)*0.25,activation='relu')) \n",
    "        model.add(Dropout(rate = 0.2))\n",
    "        model.add(Dense(1,activation='relu')) \n",
    "        #opt=Adam(learning_rate=0.1, clipnorm=2)\n",
    "        model.compile(optimizer=\"adam\", loss=\"mean_absolute_error\")\n",
    "\n",
    "        model.fit(x_train, y_train, epochs=80 ,validation_data=(x_test, y_test), batch_size=128, verbose=0)\n",
    "        pred = model.predict(x_test,verbose=0)\n",
    "        score = metrics.mean_absolute_error(pred,y_test)\n",
    "        mae.append(score)"
   ]
  },
  {
   "cell_type": "code",
   "execution_count": 10,
   "metadata": {},
   "outputs": [
    {
     "name": "stdout",
     "output_type": "stream",
     "text": [
      "49.64754122543335\n"
     ]
    }
   ],
   "source": [
    "print(np.mean(mae))"
   ]
  },
  {
   "attachments": {},
   "cell_type": "markdown",
   "metadata": {},
   "source": [
    "Red con exponente y trayectorias"
   ]
  },
  {
   "cell_type": "code",
   "execution_count": 64,
   "metadata": {},
   "outputs": [],
   "source": [
    "tra_exp=pd.concat([tra,exp_50],axis=1)"
   ]
  },
  {
   "cell_type": "code",
   "execution_count": 65,
   "metadata": {},
   "outputs": [],
   "source": [
    "mae=[]\n",
    "kf=KFold(n_splits=10,shuffle=True)\n",
    "for trains,tests in kf.split(tra_exp):\n",
    "        x_train = tra_exp.iloc[trains]\n",
    "        y_train = labels.iloc[trains]\n",
    "        x_test = tra_exp.iloc[tests]\n",
    "        y_test = labels.iloc[tests]\n",
    "        model = Sequential()\n",
    "        model.add(Dense(len(x_train.columns)*2, activation='relu', input_shape=(len(x_train.columns),)))\n",
    "        model.add(Dropout(rate = 0.2))\n",
    "        model.add(Dense(len(x_train.columns)*1.5, activation='relu'))\n",
    "        model.add(Dropout(rate = 0.2))\n",
    "        model.add(Dense(len(x_train.columns)*0.5,activation='relu')) \n",
    "        model.add(Dropout(rate = 0.2))\n",
    "        model.add(Dense(len(x_train.columns)*0.25,activation='relu')) \n",
    "        model.add(Dropout(rate = 0.2))\n",
    "        model.add(Dense(1,activation='relu')) \n",
    "        #opt=Adam(learning_rate=0.1, clipnorm=2)\n",
    "        model.compile(optimizer=\"adam\", loss=\"mean_absolute_error\")\n",
    "\n",
    "        model.fit(x_train, y_train, epochs=80 ,validation_data=(x_test, y_test), batch_size=128, verbose=0)\n",
    "        pred = model.predict(x_test,verbose=0)\n",
    "        score = metrics.mean_absolute_error(pred,y_test)\n",
    "        mae.append(score)"
   ]
  },
  {
   "cell_type": "code",
   "execution_count": 68,
   "metadata": {},
   "outputs": [],
   "source": [
    "mae.remove(11413043439265.35\n",
    ")"
   ]
  },
  {
   "cell_type": "code",
   "execution_count": 69,
   "metadata": {},
   "outputs": [
    {
     "name": "stdout",
     "output_type": "stream",
     "text": [
      "64.19922983990774\n"
     ]
    }
   ],
   "source": [
    "print(np.mean(mae))"
   ]
  },
  {
   "attachments": {},
   "cell_type": "markdown",
   "metadata": {},
   "source": [
    "Red con exponentes y tipos de movimiento"
   ]
  },
  {
   "cell_type": "code",
   "execution_count": 14,
   "metadata": {},
   "outputs": [],
   "source": [
    "w_exp=pd.concat([pred_w,exp_50],axis=1)"
   ]
  },
  {
   "cell_type": "code",
   "execution_count": 71,
   "metadata": {},
   "outputs": [],
   "source": [
    "mae=[]\n",
    "kf=KFold(n_splits=10,shuffle=True)\n",
    "for trains,tests in kf.split(w_exp):\n",
    "        x_train = w_exp.iloc[trains]\n",
    "        y_train = labels.iloc[trains]\n",
    "        x_test = w_exp.iloc[tests]\n",
    "        y_test = labels.iloc[tests]\n",
    "        model = Sequential()\n",
    "        model.add(Dense(len(x_train.columns)*2, activation='relu', input_shape=(len(x_train.columns),)))\n",
    "        model.add(Dropout(rate = 0.2))\n",
    "        model.add(Dense(len(x_train.columns)*1.5, activation='relu'))\n",
    "        model.add(Dropout(rate = 0.2))\n",
    "        model.add(Dense(len(x_train.columns)*0.5,activation='relu')) \n",
    "        model.add(Dropout(rate = 0.2))\n",
    "        model.add(Dense(len(x_train.columns)*0.25,activation='relu')) \n",
    "        model.add(Dropout(rate = 0.2))\n",
    "        model.add(Dense(1,activation='relu')) \n",
    "        #opt=Adam(learning_rate=0.1, clipnorm=2)\n",
    "        model.compile(optimizer=\"adam\", loss=\"mean_absolute_error\")\n",
    "\n",
    "        model.fit(x_train, y_train, epochs=80 ,validation_data=(x_test, y_test), batch_size=128, verbose=0)\n",
    "        pred = model.predict(x_test,verbose=False)\n",
    "        score = metrics.mean_absolute_error(pred,y_test)\n",
    "        mae.append(score)"
   ]
  },
  {
   "cell_type": "code",
   "execution_count": 72,
   "metadata": {},
   "outputs": [
    {
     "name": "stdout",
     "output_type": "stream",
     "text": [
      "49.78368741798401\n"
     ]
    }
   ],
   "source": [
    "print(np.mean(mae))"
   ]
  },
  {
   "attachments": {},
   "cell_type": "markdown",
   "metadata": {},
   "source": [
    "Red con exponentes, clasificación y trayectorias."
   ]
  },
  {
   "cell_type": "code",
   "execution_count": 11,
   "metadata": {},
   "outputs": [],
   "source": [
    "total=pd.concat([pred_w,exp_50,tra],axis=1)"
   ]
  },
  {
   "cell_type": "code",
   "execution_count": 74,
   "metadata": {},
   "outputs": [],
   "source": [
    "mae=[]\n",
    "kf=KFold(n_splits=10,shuffle=True)\n",
    "for trains,tests in kf.split(total):\n",
    "        x_train = total.iloc[trains]\n",
    "        y_train = labels.iloc[trains]\n",
    "        x_test = total.iloc[tests]\n",
    "        y_test = labels.iloc[tests]\n",
    "        model = Sequential()\n",
    "        model.add(Dense(len(x_train.columns)*2, activation='relu', input_shape=(len(x_train.columns),)))\n",
    "        model.add(Dropout(rate = 0.2))\n",
    "        model.add(Dense(len(x_train.columns)*1.5, activation='relu'))\n",
    "        model.add(Dropout(rate = 0.2))\n",
    "        model.add(Dense(len(x_train.columns)*0.5,activation='relu')) \n",
    "        model.add(Dropout(rate = 0.2))\n",
    "        model.add(Dense(len(x_train.columns)*0.25,activation='relu')) \n",
    "        model.add(Dropout(rate = 0.2))\n",
    "        model.add(Dense(1,activation='relu')) \n",
    "        #opt=Adam(learning_rate=0.1, clipnorm=2)\n",
    "        model.compile(optimizer=\"adam\", loss=\"mean_absolute_error\")\n",
    "\n",
    "        model.fit(x_train, y_train, epochs=80 ,validation_data=(x_test, y_test), batch_size=128, verbose=0)\n",
    "        pred = model.predict(x_test,verbose=0)\n",
    "        score = metrics.mean_absolute_error(pred,y_test)\n",
    "        mae.append(score)"
   ]
  },
  {
   "cell_type": "code",
   "execution_count": 75,
   "metadata": {},
   "outputs": [
    {
     "name": "stdout",
     "output_type": "stream",
     "text": [
      "56.86518887305259\n"
     ]
    }
   ],
   "source": [
    "print(np.mean(mae))"
   ]
  },
  {
   "attachments": {},
   "cell_type": "markdown",
   "metadata": {},
   "source": [
    "Train Final model"
   ]
  },
  {
   "cell_type": "code",
   "execution_count": 17,
   "metadata": {},
   "outputs": [
    {
     "data": {
      "text/plain": [
       "<keras.callbacks.History at 0x26b571b90a0>"
      ]
     },
     "execution_count": 17,
     "metadata": {},
     "output_type": "execute_result"
    }
   ],
   "source": [
    "x_train=w_exp\n",
    "model = Sequential()\n",
    "model.add(Dense(len(x_train.columns)*2, activation='relu', input_shape=(len(x_train.columns),)))\n",
    "model.add(Dropout(rate = 0.2))\n",
    "model.add(Dense(len(x_train.columns)*1.5, activation='relu'))\n",
    "model.add(Dropout(rate = 0.2))\n",
    "model.add(Dense(len(x_train.columns)*0.5,activation='relu')) \n",
    "model.add(Dropout(rate = 0.2))\n",
    "model.add(Dense(len(x_train.columns)*0.25,activation='relu')) \n",
    "model.add(Dropout(rate = 0.2))\n",
    "model.add(Dense(1,activation='relu')) \n",
    "model.compile(optimizer=\"adam\", loss=\"mean_absolute_error\")\n",
    "\n",
    "model.fit(x_train, labels, batch_size=128, verbose=0)\n"
   ]
  },
  {
   "cell_type": "code",
   "execution_count": 24,
   "metadata": {},
   "outputs": [
    {
     "data": {
      "text/html": [
       "<div>\n",
       "<style scoped>\n",
       "    .dataframe tbody tr th:only-of-type {\n",
       "        vertical-align: middle;\n",
       "    }\n",
       "\n",
       "    .dataframe tbody tr th {\n",
       "        vertical-align: top;\n",
       "    }\n",
       "\n",
       "    .dataframe thead th {\n",
       "        text-align: right;\n",
       "    }\n",
       "</style>\n",
       "<table border=\"1\" class=\"dataframe\">\n",
       "  <thead>\n",
       "    <tr style=\"text-align: right;\">\n",
       "      <th></th>\n",
       "      <th>0</th>\n",
       "      <th>1</th>\n",
       "      <th>2</th>\n",
       "      <th>3</th>\n",
       "      <th>4</th>\n",
       "      <th>5</th>\n",
       "      <th>6</th>\n",
       "      <th>7</th>\n",
       "      <th>8</th>\n",
       "      <th>9</th>\n",
       "      <th>...</th>\n",
       "      <th>140</th>\n",
       "      <th>141</th>\n",
       "      <th>142</th>\n",
       "      <th>143</th>\n",
       "      <th>144</th>\n",
       "      <th>145</th>\n",
       "      <th>146</th>\n",
       "      <th>147</th>\n",
       "      <th>148</th>\n",
       "      <th>149</th>\n",
       "    </tr>\n",
       "  </thead>\n",
       "  <tbody>\n",
       "    <tr>\n",
       "      <th>0</th>\n",
       "      <td>0</td>\n",
       "      <td>0</td>\n",
       "      <td>0</td>\n",
       "      <td>0</td>\n",
       "      <td>0</td>\n",
       "      <td>0</td>\n",
       "      <td>1</td>\n",
       "      <td>1</td>\n",
       "      <td>1</td>\n",
       "      <td>1</td>\n",
       "      <td>...</td>\n",
       "      <td>0.882925</td>\n",
       "      <td>0.852529</td>\n",
       "      <td>0.820865</td>\n",
       "      <td>0.854865</td>\n",
       "      <td>0.952855</td>\n",
       "      <td>1.199125</td>\n",
       "      <td>1.047506</td>\n",
       "      <td>0.937396</td>\n",
       "      <td>0.878051</td>\n",
       "      <td>0.863841</td>\n",
       "    </tr>\n",
       "    <tr>\n",
       "      <th>1</th>\n",
       "      <td>2</td>\n",
       "      <td>1</td>\n",
       "      <td>1</td>\n",
       "      <td>1</td>\n",
       "      <td>1</td>\n",
       "      <td>1</td>\n",
       "      <td>1</td>\n",
       "      <td>1</td>\n",
       "      <td>1</td>\n",
       "      <td>1</td>\n",
       "      <td>...</td>\n",
       "      <td>0.832300</td>\n",
       "      <td>0.922429</td>\n",
       "      <td>0.813903</td>\n",
       "      <td>0.785471</td>\n",
       "      <td>0.810468</td>\n",
       "      <td>0.815196</td>\n",
       "      <td>0.986416</td>\n",
       "      <td>0.935384</td>\n",
       "      <td>0.953862</td>\n",
       "      <td>0.894492</td>\n",
       "    </tr>\n",
       "    <tr>\n",
       "      <th>2</th>\n",
       "      <td>0</td>\n",
       "      <td>0</td>\n",
       "      <td>2</td>\n",
       "      <td>4</td>\n",
       "      <td>2</td>\n",
       "      <td>2</td>\n",
       "      <td>2</td>\n",
       "      <td>4</td>\n",
       "      <td>4</td>\n",
       "      <td>4</td>\n",
       "      <td>...</td>\n",
       "      <td>1.231648</td>\n",
       "      <td>1.204990</td>\n",
       "      <td>1.166011</td>\n",
       "      <td>1.208317</td>\n",
       "      <td>1.132064</td>\n",
       "      <td>1.118738</td>\n",
       "      <td>1.067788</td>\n",
       "      <td>1.174055</td>\n",
       "      <td>1.379995</td>\n",
       "      <td>1.394543</td>\n",
       "    </tr>\n",
       "    <tr>\n",
       "      <th>3</th>\n",
       "      <td>4</td>\n",
       "      <td>4</td>\n",
       "      <td>4</td>\n",
       "      <td>0</td>\n",
       "      <td>0</td>\n",
       "      <td>0</td>\n",
       "      <td>0</td>\n",
       "      <td>0</td>\n",
       "      <td>0</td>\n",
       "      <td>0</td>\n",
       "      <td>...</td>\n",
       "      <td>0.910492</td>\n",
       "      <td>0.785687</td>\n",
       "      <td>0.795586</td>\n",
       "      <td>0.946763</td>\n",
       "      <td>0.795730</td>\n",
       "      <td>1.115777</td>\n",
       "      <td>1.204621</td>\n",
       "      <td>1.115252</td>\n",
       "      <td>1.057021</td>\n",
       "      <td>1.143422</td>\n",
       "    </tr>\n",
       "    <tr>\n",
       "      <th>4</th>\n",
       "      <td>2</td>\n",
       "      <td>2</td>\n",
       "      <td>4</td>\n",
       "      <td>4</td>\n",
       "      <td>2</td>\n",
       "      <td>2</td>\n",
       "      <td>2</td>\n",
       "      <td>2</td>\n",
       "      <td>2</td>\n",
       "      <td>2</td>\n",
       "      <td>...</td>\n",
       "      <td>1.026994</td>\n",
       "      <td>0.979429</td>\n",
       "      <td>0.926983</td>\n",
       "      <td>0.868413</td>\n",
       "      <td>0.970247</td>\n",
       "      <td>1.005959</td>\n",
       "      <td>1.007160</td>\n",
       "      <td>1.094510</td>\n",
       "      <td>1.055305</td>\n",
       "      <td>1.038308</td>\n",
       "    </tr>\n",
       "    <tr>\n",
       "      <th>...</th>\n",
       "      <td>...</td>\n",
       "      <td>...</td>\n",
       "      <td>...</td>\n",
       "      <td>...</td>\n",
       "      <td>...</td>\n",
       "      <td>...</td>\n",
       "      <td>...</td>\n",
       "      <td>...</td>\n",
       "      <td>...</td>\n",
       "      <td>...</td>\n",
       "      <td>...</td>\n",
       "      <td>...</td>\n",
       "      <td>...</td>\n",
       "      <td>...</td>\n",
       "      <td>...</td>\n",
       "      <td>...</td>\n",
       "      <td>...</td>\n",
       "      <td>...</td>\n",
       "      <td>...</td>\n",
       "      <td>...</td>\n",
       "      <td>...</td>\n",
       "    </tr>\n",
       "    <tr>\n",
       "      <th>995</th>\n",
       "      <td>4</td>\n",
       "      <td>2</td>\n",
       "      <td>2</td>\n",
       "      <td>2</td>\n",
       "      <td>2</td>\n",
       "      <td>2</td>\n",
       "      <td>2</td>\n",
       "      <td>2</td>\n",
       "      <td>2</td>\n",
       "      <td>2</td>\n",
       "      <td>...</td>\n",
       "      <td>1.186236</td>\n",
       "      <td>1.134329</td>\n",
       "      <td>1.094938</td>\n",
       "      <td>1.088774</td>\n",
       "      <td>1.096355</td>\n",
       "      <td>1.109394</td>\n",
       "      <td>1.025288</td>\n",
       "      <td>1.193600</td>\n",
       "      <td>1.094678</td>\n",
       "      <td>1.035359</td>\n",
       "    </tr>\n",
       "    <tr>\n",
       "      <th>996</th>\n",
       "      <td>3</td>\n",
       "      <td>3</td>\n",
       "      <td>3</td>\n",
       "      <td>3</td>\n",
       "      <td>3</td>\n",
       "      <td>3</td>\n",
       "      <td>3</td>\n",
       "      <td>3</td>\n",
       "      <td>3</td>\n",
       "      <td>3</td>\n",
       "      <td>...</td>\n",
       "      <td>0.252858</td>\n",
       "      <td>0.247572</td>\n",
       "      <td>0.251319</td>\n",
       "      <td>0.248458</td>\n",
       "      <td>0.249199</td>\n",
       "      <td>0.251373</td>\n",
       "      <td>0.245567</td>\n",
       "      <td>0.265351</td>\n",
       "      <td>0.237358</td>\n",
       "      <td>0.343641</td>\n",
       "    </tr>\n",
       "    <tr>\n",
       "      <th>997</th>\n",
       "      <td>4</td>\n",
       "      <td>2</td>\n",
       "      <td>2</td>\n",
       "      <td>2</td>\n",
       "      <td>2</td>\n",
       "      <td>2</td>\n",
       "      <td>2</td>\n",
       "      <td>2</td>\n",
       "      <td>2</td>\n",
       "      <td>2</td>\n",
       "      <td>...</td>\n",
       "      <td>1.095295</td>\n",
       "      <td>1.117645</td>\n",
       "      <td>1.058584</td>\n",
       "      <td>1.057219</td>\n",
       "      <td>0.929549</td>\n",
       "      <td>0.854649</td>\n",
       "      <td>0.785373</td>\n",
       "      <td>0.761014</td>\n",
       "      <td>0.805829</td>\n",
       "      <td>0.814046</td>\n",
       "    </tr>\n",
       "    <tr>\n",
       "      <th>998</th>\n",
       "      <td>1</td>\n",
       "      <td>1</td>\n",
       "      <td>1</td>\n",
       "      <td>1</td>\n",
       "      <td>1</td>\n",
       "      <td>1</td>\n",
       "      <td>1</td>\n",
       "      <td>1</td>\n",
       "      <td>1</td>\n",
       "      <td>1</td>\n",
       "      <td>...</td>\n",
       "      <td>0.587411</td>\n",
       "      <td>0.602478</td>\n",
       "      <td>0.605862</td>\n",
       "      <td>0.613262</td>\n",
       "      <td>0.625125</td>\n",
       "      <td>0.628190</td>\n",
       "      <td>0.635588</td>\n",
       "      <td>0.646881</td>\n",
       "      <td>0.649134</td>\n",
       "      <td>0.649513</td>\n",
       "    </tr>\n",
       "    <tr>\n",
       "      <th>999</th>\n",
       "      <td>1</td>\n",
       "      <td>1</td>\n",
       "      <td>1</td>\n",
       "      <td>1</td>\n",
       "      <td>1</td>\n",
       "      <td>1</td>\n",
       "      <td>2</td>\n",
       "      <td>1</td>\n",
       "      <td>1</td>\n",
       "      <td>1</td>\n",
       "      <td>...</td>\n",
       "      <td>0.653268</td>\n",
       "      <td>0.713824</td>\n",
       "      <td>0.706713</td>\n",
       "      <td>0.708603</td>\n",
       "      <td>0.779789</td>\n",
       "      <td>0.913223</td>\n",
       "      <td>1.095318</td>\n",
       "      <td>1.315303</td>\n",
       "      <td>1.305643</td>\n",
       "      <td>1.218395</td>\n",
       "    </tr>\n",
       "  </tbody>\n",
       "</table>\n",
       "<p>1000 rows × 300 columns</p>\n",
       "</div>"
      ],
      "text/plain": [
       "     0  1  2  3  4  5  6  7  8  9  ...       140       141       142  \\\n",
       "0    0  0  0  0  0  0  1  1  1  1  ...  0.882925  0.852529  0.820865   \n",
       "1    2  1  1  1  1  1  1  1  1  1  ...  0.832300  0.922429  0.813903   \n",
       "2    0  0  2  4  2  2  2  4  4  4  ...  1.231648  1.204990  1.166011   \n",
       "3    4  4  4  0  0  0  0  0  0  0  ...  0.910492  0.785687  0.795586   \n",
       "4    2  2  4  4  2  2  2  2  2  2  ...  1.026994  0.979429  0.926983   \n",
       "..  .. .. .. .. .. .. .. .. .. ..  ...       ...       ...       ...   \n",
       "995  4  2  2  2  2  2  2  2  2  2  ...  1.186236  1.134329  1.094938   \n",
       "996  3  3  3  3  3  3  3  3  3  3  ...  0.252858  0.247572  0.251319   \n",
       "997  4  2  2  2  2  2  2  2  2  2  ...  1.095295  1.117645  1.058584   \n",
       "998  1  1  1  1  1  1  1  1  1  1  ...  0.587411  0.602478  0.605862   \n",
       "999  1  1  1  1  1  1  2  1  1  1  ...  0.653268  0.713824  0.706713   \n",
       "\n",
       "          143       144       145       146       147       148       149  \n",
       "0    0.854865  0.952855  1.199125  1.047506  0.937396  0.878051  0.863841  \n",
       "1    0.785471  0.810468  0.815196  0.986416  0.935384  0.953862  0.894492  \n",
       "2    1.208317  1.132064  1.118738  1.067788  1.174055  1.379995  1.394543  \n",
       "3    0.946763  0.795730  1.115777  1.204621  1.115252  1.057021  1.143422  \n",
       "4    0.868413  0.970247  1.005959  1.007160  1.094510  1.055305  1.038308  \n",
       "..        ...       ...       ...       ...       ...       ...       ...  \n",
       "995  1.088774  1.096355  1.109394  1.025288  1.193600  1.094678  1.035359  \n",
       "996  0.248458  0.249199  0.251373  0.245567  0.265351  0.237358  0.343641  \n",
       "997  1.057219  0.929549  0.854649  0.785373  0.761014  0.805829  0.814046  \n",
       "998  0.613262  0.625125  0.628190  0.635588  0.646881  0.649134  0.649513  \n",
       "999  0.708603  0.779789  0.913223  1.095318  1.315303  1.305643  1.218395  \n",
       "\n",
       "[1000 rows x 300 columns]"
      ]
     },
     "execution_count": 24,
     "metadata": {},
     "output_type": "execute_result"
    }
   ],
   "source": [
    "w_exp"
   ]
  }
 ],
 "metadata": {
  "kernelspec": {
   "display_name": "base",
   "language": "python",
   "name": "python3"
  },
  "language_info": {
   "codemirror_mode": {
    "name": "ipython",
    "version": 3
   },
   "file_extension": ".py",
   "mimetype": "text/x-python",
   "name": "python",
   "nbconvert_exporter": "python",
   "pygments_lexer": "ipython3",
   "version": "3.8.3"
  },
  "orig_nbformat": 4
 },
 "nbformat": 4,
 "nbformat_minor": 2
}
