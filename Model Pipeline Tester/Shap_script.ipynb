{
 "cells": [
  {
   "cell_type": "code",
   "execution_count": 1,
   "id": "af7bc4a6-15cc-46ca-a4a5-5534cc90527c",
   "metadata": {},
   "outputs": [
    {
     "name": "stderr",
     "output_type": "stream",
     "text": [
      "c:\\Users\\Apm1a\\anaconda3\\lib\\site-packages\\pandas\\core\\computation\\expressions.py:21: UserWarning: Pandas requires version '2.7.3' or newer of 'numexpr' (version '2.7.1' currently installed).\n",
      "  from pandas.core.computation.check import NUMEXPR_INSTALLED\n"
     ]
    }
   ],
   "source": [
    "import numpy as np\n",
    "import csv as csv\n",
    "import pandas as pd\n",
    "\n",
    "from sklearn.metrics import mean_absolute_error\n",
    "import tensorflow as tf\n",
    "import random as random\n",
    "\n",
    "import keras\n",
    "from keras.models import Sequential\n",
    "from keras.layers import Dense, Dropout, Activation\n",
    "from keras.optimizers import SGD\n",
    "from keras import losses, metrics\n",
    "\n",
    "from keras.models import Sequential\n",
    "from keras.layers import Dense\n",
    "from keras.layers import SimpleRNN\n",
    "from keras.layers import LSTM\n",
    "\n",
    "from keras.layers import Dropout\n",
    "from keras.layers import Bidirectional\n",
    "#from keras.models import load_model\n",
    "from tensorflow.keras.models import load_model\n",
    "import os\n",
    "from matplotlib import pyplot as plt\n",
    "#from data_split import data_split\n",
    "from many_net import many_net_hd_u1d, many_net_1d, many_net_3d_u2d, many_net_uhd\n",
    "import xgboost\n",
    "import shap\n",
    "import matplotlib.pyplot as plt "
   ]
  },
  {
   "cell_type": "code",
   "execution_count": 2,
   "id": "2d150a3f",
   "metadata": {},
   "outputs": [],
   "source": [
    "xgb=xgboost.Booster()\n",
    "xgb.load_model('xgboost_model.json')"
   ]
  },
  {
   "cell_type": "code",
   "execution_count": 27,
   "id": "6649061a-a4e9-4e01-95d2-23942ceb593e",
   "metadata": {},
   "outputs": [],
   "source": [
    "def plot_exponents(data,row,real,predicted):\n",
    "    fig, ax = plt.subplots()\n",
    "    real_row= data\n",
    "    x=[w for w in range(len(data))]\n",
    "    cp=real['Changepoint'].iloc[row]\n",
    "    ax.axvline(cp,linestyle='--', color='lightsalmon',label='real')\n",
    "    ax.axvline(predicted,linestyle='--', color='red',label='predicted')\n",
    "    ax.legend()\n",
    "    desviacion=abs(predicted-cp)\n",
    "    plt.title(f\"Change-Point Prediction\")\n",
    "    ax.text(s = f'Deviation:{str(round(desviacion,2))}',x=-18,y=max(real_row)+0.3*max(real_row))\n",
    "    ax.plot(x,real_row)\n",
    "    plt.show()"
   ]
  },
  {
   "cell_type": "code",
   "execution_count": 24,
   "id": "34acdfcf",
   "metadata": {},
   "outputs": [],
   "source": [
    "def plot_shap_values(shap_values, feature_names, num_features=20,positive_color='red',negative_color='blue'):\n",
    "    sorted_idx = sorted(range(len(shap_values)), key=lambda k: abs(shap_values[k]), reverse=True)\n",
    "    sorted_shap = [shap_values[i] for i in sorted_idx[:num_features]]\n",
    "    sorted_names = [feature_names[i] for i in sorted_idx[:num_features]]\n",
    "    colors = [positive_color if value > 0 else negative_color for value in sorted_shap]\n",
    "\n",
    "    plt.barh(sorted_names[::-1], sorted_shap[::-1],color=colors[::-1])\n",
    "    plt.xlabel('SHAP values')\n",
    "    plt.ylabel('Variables')\n",
    "    plt.title('SHAP values of the predicted changepoint')\n",
    "    plt.show()\n"
   ]
  },
  {
   "cell_type": "code",
   "execution_count": 22,
   "id": "812a4137-9f81-4b94-9622-377aad600bf1",
   "metadata": {},
   "outputs": [],
   "source": [
    "def prediccion(enlace,row):\n",
    "    data = pd.read_csv(enlace)\n",
    "    real = pd.read_csv(\"real_ok.csv\")\n",
    "    try:\n",
    "        data = data.drop([\"Unnamed: 0\",\"V1\"],axis=1)\n",
    "        data = data.iloc[row]\n",
    "    except:\n",
    "        data = data.iloc[row]\n",
    "    centersAlfa = [25, 50, 65]\n",
    "    centersType = [25, 65]\n",
    "    meta_modelType=[]\n",
    "    meta_modelAlfa=[]\n",
    "    for i in centersType:\n",
    "        m=load_model('task2_1D_recdout_'+str(i)+'.h5')\n",
    "        meta_modelType.append(m)\n",
    "    for i in centersAlfa:\n",
    "        m=load_model('Model_1D_recdout_'+str(i)+'.h5')\n",
    "        meta_modelAlfa.append(m)\n",
    "    input_array = data.to_numpy()\n",
    "    input_array = np.reshape(input_array, newshape=(1,200))\n",
    "    window_size = 50\n",
    "    stride = 1\n",
    "    num_segments = (200 - window_size) // stride + 1\n",
    "    shape = (1, num_segments, window_size)\n",
    "    strides = (input_array.strides[0], input_array.strides[1]*stride, input_array.strides[1])\n",
    "    output_matrix = np.lib.stride_tricks.as_strided(input_array, shape=shape, strides=strides)\n",
    "\n",
    "    output_array = np.column_stack((np.repeat(np.arange(1), num_segments), output_matrix.reshape(-1, 50)))\n",
    "\n",
    "    windows = pd.DataFrame(output_array,columns=list(range(-1,50)))\n",
    "\n",
    "    cols = list(windows.columns) \n",
    "    cols[0] = \"Trajectory\"\n",
    "    windows.columns = cols\n",
    "    windowMatrix = windows.to_numpy()\n",
    "    windowsMatrix_ok = np.delete(windowMatrix,0,1)\n",
    "    \n",
    "    \"Prediction Part\"\n",
    "    print(\"Predicting diffusion exponent and diffusion type\")\n",
    "    predictionsAlpha=many_net_hd_u1d(meta_modelAlfa,windowsMatrix_ok,centers=centersAlfa,dim=1)\n",
    "    predictionsType=many_net_hd_u1d(meta_modelType,windowsMatrix_ok,centers=centersType,dim=1)\n",
    "    pType = np.reshape(predictionsType[0], newshape=(1,151,5))\n",
    "    pAlfa = np.reshape(predictionsAlpha[0], newshape=(1,151))\n",
    "    \n",
    "    res = []\n",
    "    for i in range(len(pType)):\n",
    "        t = []\n",
    "        for j in range(len(pType[i])):\n",
    "            a = pType[i][j]\n",
    "            t.append(int(np.where(a==np.max(a))[0][0]))\n",
    "        res.append(t)\n",
    "        \n",
    "    pdType = pd.DataFrame(res).drop(150,axis=1)\n",
    "    pdAlfa = pd.DataFrame(pAlfa).drop(150,axis=1)\n",
    "    pdInput = pd.concat([pdType,pdAlfa],axis=1)\n",
    "    pdInput.columns = [i for i in range(150)] + ['t'+str(i) for i in range(150)]\n",
    "    model=xgboost.XGBRegressor()\n",
    "    model.load_model('xgboost_model.json')\n",
    "    predicted = model.predict(pdInput)[0]\n",
    "    plot_exponents(data,row,real,predicted)\n",
    "    \n",
    "    explainer = shap.TreeExplainer(model)\n",
    "    shap_values = explainer.shap_values(pdInput)\n",
    "    \n",
    "    \n",
    "    plot_shap_values(list(shap_values[0]), list(str(i) for i in pdInput.columns))\n",
    "    return predicted"
   ]
  },
  {
   "cell_type": "code",
   "execution_count": null,
   "id": "317998ce",
   "metadata": {},
   "outputs": [],
   "source": []
  },
  {
   "cell_type": "code",
   "execution_count": 28,
   "id": "8c5f434e-d0c2-445d-aac1-77715e17e542",
   "metadata": {
    "tags": []
   },
   "outputs": [
    {
     "name": "stdout",
     "output_type": "stream",
     "text": [
      "Predicting diffusion exponent and diffusion type\n",
      "traj 151 / 151\r"
     ]
    },
    {
     "data": {
      "image/png": "[encoded data removed]",
      "text/plain": [
       "<Figure size 432x288 with 1 Axes>"
      ]
     },
     "metadata": {
      "needs_background": "light"
     },
     "output_type": "display_data"
    },
    {
     "name": "stderr",
     "output_type": "stream",
     "text": [
      "ntree_limit is deprecated, use `iteration_range` or model slicing instead.\n"
     ]
    },
    {
     "data": {
      "image/png": "[encoded data removed]",
      "text/plain": [
       "<Figure size 432x288 with 1 Axes>"
      ]
     },
     "metadata": {
      "needs_background": "light"
     },
     "output_type": "display_data"
    },
    {
     "data": {
      "text/plain": [
       "60.59031"
      ]
     },
     "execution_count": 28,
     "metadata": {},
     "output_type": "execute_result"
    }
   ],
   "source": [
    "prediccion(\"task3.csv\",0)"
   ]
  }
 ],
 "metadata": {
  "kernelspec": {
   "display_name": "Python 3",
   "language": "python",
   "name": "python3"
  },
  "language_info": {
   "codemirror_mode": {
    "name": "ipython",
    "version": 3
   },
   "file_extension": ".py",
   "mimetype": "text/x-python",
   "name": "python",
   "nbconvert_exporter": "python",
   "pygments_lexer": "ipython3",
   "version": "3.8.3"
  }
 },
 "nbformat": 4,
 "nbformat_minor": 5
}
